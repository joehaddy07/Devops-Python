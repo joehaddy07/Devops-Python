{
 "cells": [
  {
   "cell_type": "code",
   "execution_count": 7,
   "metadata": {},
   "outputs": [],
   "source": [
    "import boto3\n",
    "import json"
   ]
  },
  {
   "cell_type": "code",
   "execution_count": 8,
   "metadata": {},
   "outputs": [],
   "source": [
    "client = boto3.client('ec2') #initializing an Amazon Web Services (AWS) EC2 client using the Boto3 library in Python"
   ]
  },
  {
   "cell_type": "code",
   "execution_count": 9,
   "metadata": {},
   "outputs": [],
   "source": [
    "describe_security_group_rules_response = client.describe_security_group_rules() #creating a variable and describe the rules of a security group "
   ]
  },
  {
   "cell_type": "code",
   "execution_count": 10,
   "metadata": {},
   "outputs": [
    {
     "data": {
      "text/plain": [
       "{'SecurityGroupRules': [{'SecurityGroupRuleId': 'sgr-07423e9bde2381cd5',\n",
       "   'GroupId': 'sg-0adcb13c79847745c',\n",
       "   'GroupOwnerId': '764889613832',\n",
       "   'IsEgress': False,\n",
       "   'IpProtocol': 'tcp',\n",
       "   'FromPort': 80,\n",
       "   'ToPort': 80,\n",
       "   'CidrIpv4': '0.0.0.0/0',\n",
       "   'Description': 'Allow port 80',\n",
       "   'Tags': []},\n",
       "  {'SecurityGroupRuleId': 'sgr-08878f81510d2e456',\n",
       "   'GroupId': 'sg-0adcb13c79847745c',\n",
       "   'GroupOwnerId': '764889613832',\n",
       "   'IsEgress': False,\n",
       "   'IpProtocol': 'tcp',\n",
       "   'FromPort': 50000,\n",
       "   'ToPort': 50000,\n",
       "   'CidrIpv4': '0.0.0.0/0',\n",
       "   'Description': 'Allow port 80',\n",
       "   'Tags': []},\n",
       "  {'SecurityGroupRuleId': 'sgr-01eb76b2049d2504c',\n",
       "   'GroupId': 'sg-0adcb13c79847745c',\n",
       "   'GroupOwnerId': '764889613832',\n",
       "   'IsEgress': False,\n",
       "   'IpProtocol': 'tcp',\n",
       "   'FromPort': 9000,\n",
       "   'ToPort': 9000,\n",
       "   'CidrIpv4': '0.0.0.0/0',\n",
       "   'Description': 'Allow port 80',\n",
       "   'Tags': []},\n",
       "  {'SecurityGroupRuleId': 'sgr-0b3ed2b7d5e3b5ad2',\n",
       "   'GroupId': 'sg-0029c883d0743fd09',\n",
       "   'GroupOwnerId': '764889613832',\n",
       "   'IsEgress': False,\n",
       "   'IpProtocol': '-1',\n",
       "   'FromPort': -1,\n",
       "   'ToPort': -1,\n",
       "   'ReferencedGroupInfo': {'GroupId': 'sg-0029c883d0743fd09',\n",
       "    'UserId': '764889613832'},\n",
       "   'Tags': []},\n",
       "  {'SecurityGroupRuleId': 'sgr-0a4003fecd4c1ca10',\n",
       "   'GroupId': 'sg-0adcb13c79847745c',\n",
       "   'GroupOwnerId': '764889613832',\n",
       "   'IsEgress': True,\n",
       "   'IpProtocol': '-1',\n",
       "   'FromPort': -1,\n",
       "   'ToPort': -1,\n",
       "   'CidrIpv6': '::/0',\n",
       "   'Tags': []},\n",
       "  {'SecurityGroupRuleId': 'sgr-00c3f5babdf7676b4',\n",
       "   'GroupId': 'sg-0ef195f53583f2132',\n",
       "   'GroupOwnerId': '764889613832',\n",
       "   'IsEgress': False,\n",
       "   'IpProtocol': '-1',\n",
       "   'FromPort': -1,\n",
       "   'ToPort': -1,\n",
       "   'ReferencedGroupInfo': {'GroupId': 'sg-0ef195f53583f2132',\n",
       "    'UserId': '764889613832'},\n",
       "   'Tags': []},\n",
       "  {'SecurityGroupRuleId': 'sgr-082637a0ed792d2ee',\n",
       "   'GroupId': 'sg-0029c883d0743fd09',\n",
       "   'GroupOwnerId': '764889613832',\n",
       "   'IsEgress': True,\n",
       "   'IpProtocol': '-1',\n",
       "   'FromPort': -1,\n",
       "   'ToPort': -1,\n",
       "   'CidrIpv4': '0.0.0.0/0',\n",
       "   'Tags': []},\n",
       "  {'SecurityGroupRuleId': 'sgr-04b3c9f7d59e7a6bb',\n",
       "   'GroupId': 'sg-0ef195f53583f2132',\n",
       "   'GroupOwnerId': '764889613832',\n",
       "   'IsEgress': True,\n",
       "   'IpProtocol': '-1',\n",
       "   'FromPort': -1,\n",
       "   'ToPort': -1,\n",
       "   'CidrIpv4': '0.0.0.0/0',\n",
       "   'Tags': []},\n",
       "  {'SecurityGroupRuleId': 'sgr-0d8b16506ba166dd9',\n",
       "   'GroupId': 'sg-0adcb13c79847745c',\n",
       "   'GroupOwnerId': '764889613832',\n",
       "   'IsEgress': False,\n",
       "   'IpProtocol': 'tcp',\n",
       "   'FromPort': 8081,\n",
       "   'ToPort': 8081,\n",
       "   'CidrIpv4': '0.0.0.0/0',\n",
       "   'Description': 'Allow port 80',\n",
       "   'Tags': []},\n",
       "  {'SecurityGroupRuleId': 'sgr-0626ec3450e7f285d',\n",
       "   'GroupId': 'sg-0adcb13c79847745c',\n",
       "   'GroupOwnerId': '764889613832',\n",
       "   'IsEgress': True,\n",
       "   'IpProtocol': '-1',\n",
       "   'FromPort': -1,\n",
       "   'ToPort': -1,\n",
       "   'CidrIpv4': '0.0.0.0/0',\n",
       "   'Tags': []},\n",
       "  {'SecurityGroupRuleId': 'sgr-0ccb0fbc27ba3596c',\n",
       "   'GroupId': 'sg-0adcb13c79847745c',\n",
       "   'GroupOwnerId': '764889613832',\n",
       "   'IsEgress': False,\n",
       "   'IpProtocol': 'tcp',\n",
       "   'FromPort': 8080,\n",
       "   'ToPort': 8080,\n",
       "   'CidrIpv4': '0.0.0.0/0',\n",
       "   'Description': 'Allow port 80',\n",
       "   'Tags': []},\n",
       "  {'SecurityGroupRuleId': 'sgr-0d1d6c13f6f4f8887',\n",
       "   'GroupId': 'sg-0adcb13c79847745c',\n",
       "   'GroupOwnerId': '764889613832',\n",
       "   'IsEgress': False,\n",
       "   'IpProtocol': 'tcp',\n",
       "   'FromPort': 22,\n",
       "   'ToPort': 22,\n",
       "   'CidrIpv4': '0.0.0.0/0',\n",
       "   'Description': 'Allow port 22',\n",
       "   'Tags': []}],\n",
       " 'NextToken': 'eyJ2IjoiMSIsInMiOjEsImMiOiJzd1laTWc5WXNzUFd3YlVYWXN1ZEZocU45d09SNFh1UThzaUhtWTMzdS1VdmlnVUtwcnRBWUpRQTZiYndvM0EwSXdsTmhtY2RMUVN1ck1ldVlvREg2VV9vRWVrUDJQaG9tMFN0R0tkNmcyemo2d2JNbnZiOUF4R2llSFQyMkFjakhfMFhqbEVZV1YyZUdlQWx1b3djdm1vRDczczJuT09TR3ltSGJpU1Utd05SeVgxS2JMZDdHQjdfd08wVDFBLUpFTEdiYy11QXNTQ1FiVnpOajBReUktdm95Q0VlbENoWkN5dXc2M0c1SEZGeHptalpCTURMSE5CZHpKVmQ5QlZlbTBDUzhsYnJCaFBYR2lNNDhUOURaRlRvWUNfak9SUUZQbmt1QS11R2llTlZYZVZvMXo3ODBsVGJxanhvb3U1YlZsbmQ0dW82R3JVT3ZkOEZTOWNORklfS1V1dmR4RmktcE9nIn0=',\n",
       " 'ResponseMetadata': {'RequestId': '85b9d10a-b56f-4654-a3db-9c4af4957cdd',\n",
       "  'HTTPStatusCode': 200,\n",
       "  'HTTPHeaders': {'x-amzn-requestid': '85b9d10a-b56f-4654-a3db-9c4af4957cdd',\n",
       "   'cache-control': 'no-cache, no-store',\n",
       "   'strict-transport-security': 'max-age=31536000; includeSubDomains',\n",
       "   'vary': 'accept-encoding',\n",
       "   'content-type': 'text/xml;charset=UTF-8',\n",
       "   'transfer-encoding': 'chunked',\n",
       "   'date': 'Tue, 26 Nov 2024 05:12:13 GMT',\n",
       "   'server': 'AmazonEC2'},\n",
       "  'RetryAttempts': 0}}"
      ]
     },
     "execution_count": 10,
     "metadata": {},
     "output_type": "execute_result"
    }
   ],
   "source": [
    "describe_security_group_rules_response"
   ]
  },
  {
   "cell_type": "code",
   "execution_count": 11,
   "metadata": {},
   "outputs": [],
   "source": [
    "get_security_group_rules= describe_security_group_rules_response.get(\"SecurityGroupRules\") #creating a variable and get the security group rule "
   ]
  },
  {
   "cell_type": "code",
   "execution_count": null,
   "metadata": {},
   "outputs": [],
   "source": [
    "get_security_group_rules"
   ]
  },
  {
   "cell_type": "code",
   "execution_count": 13,
   "metadata": {},
   "outputs": [],
   "source": [
    "get_sg_id_with_ssh_rule_open_to_the_world= [] # Initialize an empty list to store security group IDs with SSH rules open to the world\n",
    "\n",
    "for item in get_security_group_rules: # Iterate through the list of security group rules\n",
    "    security_group_id= item.get(\"GroupId\") # Get the security group ID from the current rule\n",
    "\n",
    "    if item.get(\"FromPort\") == 22 and item.get(\" CidrIpv4\") == \"0.0.0.0/0\": # Check if the rule allows SSH access from any IP address (0.0.0.0/0) on port 22\n",
    "        get_sg_id_with_ssh_rule_open_to_the_world.append(security_group_id)# Append the security group ID to the list if the condition is met"
   ]
  },
  {
   "cell_type": "code",
   "execution_count": 14,
   "metadata": {},
   "outputs": [
    {
     "data": {
      "text/plain": [
       "[]"
      ]
     },
     "execution_count": 14,
     "metadata": {},
     "output_type": "execute_result"
    }
   ],
   "source": [
    "get_sg_id_with_ssh_rule_open_to_the_world"
   ]
  },
  {
   "cell_type": "code",
   "execution_count": 15,
   "metadata": {},
   "outputs": [],
   "source": [
    "describe_instances_response = client.describe_instances()#creating a variable and describe instances"
   ]
  },
  {
   "cell_type": "code",
   "execution_count": null,
   "metadata": {},
   "outputs": [],
   "source": [
    "describe_instances_response"
   ]
  },
  {
   "cell_type": "code",
   "execution_count": 18,
   "metadata": {},
   "outputs": [],
   "source": [
    "get_reservation= describe_instances_response.get(\"Reservations\")#creating a variable and get the value of reservations"
   ]
  },
  {
   "cell_type": "code",
   "execution_count": null,
   "metadata": {},
   "outputs": [],
   "source": [
    "get_reservation"
   ]
  },
  {
   "cell_type": "code",
   "execution_count": 20,
   "metadata": {},
   "outputs": [],
   "source": [
    "get_instance= [] # Initialize an empty list to store instances\n",
    "for item in get_reservation: # Iterate through the list of reservations\n",
    "    instances= item.get(\"Instances\")  # Get the instances from the current reservation\n",
    "    get_instance.append(instances)# Append the instances to the list\n",
    "    "
   ]
  },
  {
   "cell_type": "code",
   "execution_count": 21,
   "metadata": {},
   "outputs": [
    {
     "data": {
      "text/plain": [
       "[[{'AmiLaunchIndex': 0,\n",
       "   'ImageId': 'ami-0e2c8caa4b6378d8c',\n",
       "   'InstanceId': 'i-0a5361f7974fc5806',\n",
       "   'InstanceType': 't2.micro',\n",
       "   'KeyName': 'Demo-key',\n",
       "   'LaunchTime': datetime.datetime(2024, 11, 26, 2, 12, 15, tzinfo=tzutc()),\n",
       "   'Monitoring': {'State': 'disabled'},\n",
       "   'Placement': {'AvailabilityZone': 'us-east-1a',\n",
       "    'GroupName': '',\n",
       "    'Tenancy': 'default'},\n",
       "   'PrivateDnsName': 'ip-10-0-0-51.ec2.internal',\n",
       "   'PrivateIpAddress': '10.0.0.51',\n",
       "   'ProductCodes': [],\n",
       "   'PublicDnsName': '',\n",
       "   'PublicIpAddress': '44.223.92.170',\n",
       "   'State': {'Code': 16, 'Name': 'running'},\n",
       "   'StateTransitionReason': '',\n",
       "   'SubnetId': 'subnet-0453afd65c3858bcf',\n",
       "   'VpcId': 'vpc-021e6499b029e71bf',\n",
       "   'Architecture': 'x86_64',\n",
       "   'BlockDeviceMappings': [{'DeviceName': '/dev/sda1',\n",
       "     'Ebs': {'AttachTime': datetime.datetime(2024, 11, 26, 2, 12, 16, tzinfo=tzutc()),\n",
       "      'DeleteOnTermination': True,\n",
       "      'Status': 'attached',\n",
       "      'VolumeId': 'vol-041db4a38572f94eb'}}],\n",
       "   'ClientToken': 'terraform-20241126021214456600000002',\n",
       "   'EbsOptimized': False,\n",
       "   'EnaSupport': True,\n",
       "   'Hypervisor': 'xen',\n",
       "   'NetworkInterfaces': [{'Association': {'IpOwnerId': 'amazon',\n",
       "      'PublicDnsName': '',\n",
       "      'PublicIp': '44.223.92.170'},\n",
       "     'Attachment': {'AttachTime': datetime.datetime(2024, 11, 26, 2, 12, 15, tzinfo=tzutc()),\n",
       "      'AttachmentId': 'eni-attach-0027b43bafbd68d44',\n",
       "      'DeleteOnTermination': True,\n",
       "      'DeviceIndex': 0,\n",
       "      'Status': 'attached',\n",
       "      'NetworkCardIndex': 0},\n",
       "     'Description': '',\n",
       "     'Groups': [{'GroupName': 'Dev-sg', 'GroupId': 'sg-0adcb13c79847745c'}],\n",
       "     'Ipv6Addresses': [],\n",
       "     'MacAddress': '02:55:3a:ca:81:fd',\n",
       "     'NetworkInterfaceId': 'eni-0a1d32cfa66918bff',\n",
       "     'OwnerId': '764889613832',\n",
       "     'PrivateIpAddress': '10.0.0.51',\n",
       "     'PrivateIpAddresses': [{'Association': {'IpOwnerId': 'amazon',\n",
       "        'PublicDnsName': '',\n",
       "        'PublicIp': '44.223.92.170'},\n",
       "       'Primary': True,\n",
       "       'PrivateIpAddress': '10.0.0.51'}],\n",
       "     'SourceDestCheck': True,\n",
       "     'Status': 'in-use',\n",
       "     'SubnetId': 'subnet-0453afd65c3858bcf',\n",
       "     'VpcId': 'vpc-021e6499b029e71bf',\n",
       "     'InterfaceType': 'interface'}],\n",
       "   'RootDeviceName': '/dev/sda1',\n",
       "   'RootDeviceType': 'ebs',\n",
       "   'SecurityGroups': [{'GroupName': 'Dev-sg',\n",
       "     'GroupId': 'sg-0adcb13c79847745c'}],\n",
       "   'SourceDestCheck': True,\n",
       "   'VirtualizationType': 'hvm',\n",
       "   'CpuOptions': {'CoreCount': 1, 'ThreadsPerCore': 1},\n",
       "   'CapacityReservationSpecification': {'CapacityReservationPreference': 'open'},\n",
       "   'HibernationOptions': {'Configured': False},\n",
       "   'MetadataOptions': {'State': 'applied',\n",
       "    'HttpTokens': 'required',\n",
       "    'HttpPutResponseHopLimit': 2,\n",
       "    'HttpEndpoint': 'enabled',\n",
       "    'HttpProtocolIpv6': 'disabled',\n",
       "    'InstanceMetadataTags': 'disabled'},\n",
       "   'EnclaveOptions': {'Enabled': False},\n",
       "   'BootMode': 'uefi-preferred',\n",
       "   'PlatformDetails': 'Linux/UNIX',\n",
       "   'UsageOperation': 'RunInstances',\n",
       "   'UsageOperationUpdateTime': datetime.datetime(2024, 11, 26, 2, 12, 15, tzinfo=tzutc()),\n",
       "   'PrivateDnsNameOptions': {'HostnameType': 'ip-name',\n",
       "    'EnableResourceNameDnsARecord': False,\n",
       "    'EnableResourceNameDnsAAAARecord': False},\n",
       "   'MaintenanceOptions': {'AutoRecovery': 'default'},\n",
       "   'CurrentInstanceBootMode': 'legacy-bios'}],\n",
       " [{'AmiLaunchIndex': 0,\n",
       "   'ImageId': 'ami-0e2c8caa4b6378d8c',\n",
       "   'InstanceId': 'i-0d3e12c2df38af911',\n",
       "   'InstanceType': 't2.micro',\n",
       "   'KeyName': 'Demo-key',\n",
       "   'LaunchTime': datetime.datetime(2024, 11, 26, 2, 12, 15, tzinfo=tzutc()),\n",
       "   'Monitoring': {'State': 'disabled'},\n",
       "   'Placement': {'AvailabilityZone': 'us-east-1a',\n",
       "    'GroupName': '',\n",
       "    'Tenancy': 'default'},\n",
       "   'PrivateDnsName': 'ip-10-0-0-19.ec2.internal',\n",
       "   'PrivateIpAddress': '10.0.0.19',\n",
       "   'ProductCodes': [],\n",
       "   'PublicDnsName': '',\n",
       "   'PublicIpAddress': '44.200.14.17',\n",
       "   'State': {'Code': 16, 'Name': 'running'},\n",
       "   'StateTransitionReason': '',\n",
       "   'SubnetId': 'subnet-0453afd65c3858bcf',\n",
       "   'VpcId': 'vpc-021e6499b029e71bf',\n",
       "   'Architecture': 'x86_64',\n",
       "   'BlockDeviceMappings': [{'DeviceName': '/dev/sda1',\n",
       "     'Ebs': {'AttachTime': datetime.datetime(2024, 11, 26, 2, 12, 16, tzinfo=tzutc()),\n",
       "      'DeleteOnTermination': True,\n",
       "      'Status': 'attached',\n",
       "      'VolumeId': 'vol-045df72fb248dc035'}}],\n",
       "   'ClientToken': 'terraform-20241126021214456600000001',\n",
       "   'EbsOptimized': False,\n",
       "   'EnaSupport': True,\n",
       "   'Hypervisor': 'xen',\n",
       "   'NetworkInterfaces': [{'Association': {'IpOwnerId': 'amazon',\n",
       "      'PublicDnsName': '',\n",
       "      'PublicIp': '44.200.14.17'},\n",
       "     'Attachment': {'AttachTime': datetime.datetime(2024, 11, 26, 2, 12, 15, tzinfo=tzutc()),\n",
       "      'AttachmentId': 'eni-attach-0991d40a6a956550f',\n",
       "      'DeleteOnTermination': True,\n",
       "      'DeviceIndex': 0,\n",
       "      'Status': 'attached',\n",
       "      'NetworkCardIndex': 0},\n",
       "     'Description': '',\n",
       "     'Groups': [{'GroupName': 'Dev-sg', 'GroupId': 'sg-0adcb13c79847745c'}],\n",
       "     'Ipv6Addresses': [],\n",
       "     'MacAddress': '02:27:ce:a2:bf:e1',\n",
       "     'NetworkInterfaceId': 'eni-0e79c434cd57adc58',\n",
       "     'OwnerId': '764889613832',\n",
       "     'PrivateIpAddress': '10.0.0.19',\n",
       "     'PrivateIpAddresses': [{'Association': {'IpOwnerId': 'amazon',\n",
       "        'PublicDnsName': '',\n",
       "        'PublicIp': '44.200.14.17'},\n",
       "       'Primary': True,\n",
       "       'PrivateIpAddress': '10.0.0.19'}],\n",
       "     'SourceDestCheck': True,\n",
       "     'Status': 'in-use',\n",
       "     'SubnetId': 'subnet-0453afd65c3858bcf',\n",
       "     'VpcId': 'vpc-021e6499b029e71bf',\n",
       "     'InterfaceType': 'interface'}],\n",
       "   'RootDeviceName': '/dev/sda1',\n",
       "   'RootDeviceType': 'ebs',\n",
       "   'SecurityGroups': [{'GroupName': 'Dev-sg',\n",
       "     'GroupId': 'sg-0adcb13c79847745c'}],\n",
       "   'SourceDestCheck': True,\n",
       "   'VirtualizationType': 'hvm',\n",
       "   'CpuOptions': {'CoreCount': 1, 'ThreadsPerCore': 1},\n",
       "   'CapacityReservationSpecification': {'CapacityReservationPreference': 'open'},\n",
       "   'HibernationOptions': {'Configured': False},\n",
       "   'MetadataOptions': {'State': 'applied',\n",
       "    'HttpTokens': 'required',\n",
       "    'HttpPutResponseHopLimit': 2,\n",
       "    'HttpEndpoint': 'enabled',\n",
       "    'HttpProtocolIpv6': 'disabled',\n",
       "    'InstanceMetadataTags': 'disabled'},\n",
       "   'EnclaveOptions': {'Enabled': False},\n",
       "   'BootMode': 'uefi-preferred',\n",
       "   'PlatformDetails': 'Linux/UNIX',\n",
       "   'UsageOperation': 'RunInstances',\n",
       "   'UsageOperationUpdateTime': datetime.datetime(2024, 11, 26, 2, 12, 15, tzinfo=tzutc()),\n",
       "   'PrivateDnsNameOptions': {'HostnameType': 'ip-name',\n",
       "    'EnableResourceNameDnsARecord': False,\n",
       "    'EnableResourceNameDnsAAAARecord': False},\n",
       "   'MaintenanceOptions': {'AutoRecovery': 'default'},\n",
       "   'CurrentInstanceBootMode': 'legacy-bios'}],\n",
       " [{'AmiLaunchIndex': 0,\n",
       "   'ImageId': 'ami-0e2c8caa4b6378d8c',\n",
       "   'InstanceId': 'i-0acef0873e5dff7fe',\n",
       "   'InstanceType': 't2.micro',\n",
       "   'KeyName': 'Demo-key',\n",
       "   'LaunchTime': datetime.datetime(2024, 11, 26, 2, 12, 15, tzinfo=tzutc()),\n",
       "   'Monitoring': {'State': 'disabled'},\n",
       "   'Placement': {'AvailabilityZone': 'us-east-1a',\n",
       "    'GroupName': '',\n",
       "    'Tenancy': 'default'},\n",
       "   'PrivateDnsName': 'ip-10-0-0-170.ec2.internal',\n",
       "   'PrivateIpAddress': '10.0.0.170',\n",
       "   'ProductCodes': [],\n",
       "   'PublicDnsName': '',\n",
       "   'PublicIpAddress': '3.231.31.156',\n",
       "   'State': {'Code': 16, 'Name': 'running'},\n",
       "   'StateTransitionReason': '',\n",
       "   'SubnetId': 'subnet-0453afd65c3858bcf',\n",
       "   'VpcId': 'vpc-021e6499b029e71bf',\n",
       "   'Architecture': 'x86_64',\n",
       "   'BlockDeviceMappings': [{'DeviceName': '/dev/sda1',\n",
       "     'Ebs': {'AttachTime': datetime.datetime(2024, 11, 26, 2, 12, 16, tzinfo=tzutc()),\n",
       "      'DeleteOnTermination': True,\n",
       "      'Status': 'attached',\n",
       "      'VolumeId': 'vol-0d57f8557327184d6'}}],\n",
       "   'ClientToken': 'terraform-20241126021214459400000003',\n",
       "   'EbsOptimized': False,\n",
       "   'EnaSupport': True,\n",
       "   'Hypervisor': 'xen',\n",
       "   'NetworkInterfaces': [{'Association': {'IpOwnerId': 'amazon',\n",
       "      'PublicDnsName': '',\n",
       "      'PublicIp': '3.231.31.156'},\n",
       "     'Attachment': {'AttachTime': datetime.datetime(2024, 11, 26, 2, 12, 15, tzinfo=tzutc()),\n",
       "      'AttachmentId': 'eni-attach-0046d0040da3a8b77',\n",
       "      'DeleteOnTermination': True,\n",
       "      'DeviceIndex': 0,\n",
       "      'Status': 'attached',\n",
       "      'NetworkCardIndex': 0},\n",
       "     'Description': '',\n",
       "     'Groups': [{'GroupName': 'Dev-sg', 'GroupId': 'sg-0adcb13c79847745c'}],\n",
       "     'Ipv6Addresses': [],\n",
       "     'MacAddress': '02:c3:e3:70:6f:65',\n",
       "     'NetworkInterfaceId': 'eni-07645d1003d5c3e01',\n",
       "     'OwnerId': '764889613832',\n",
       "     'PrivateIpAddress': '10.0.0.170',\n",
       "     'PrivateIpAddresses': [{'Association': {'IpOwnerId': 'amazon',\n",
       "        'PublicDnsName': '',\n",
       "        'PublicIp': '3.231.31.156'},\n",
       "       'Primary': True,\n",
       "       'PrivateIpAddress': '10.0.0.170'}],\n",
       "     'SourceDestCheck': True,\n",
       "     'Status': 'in-use',\n",
       "     'SubnetId': 'subnet-0453afd65c3858bcf',\n",
       "     'VpcId': 'vpc-021e6499b029e71bf',\n",
       "     'InterfaceType': 'interface'}],\n",
       "   'RootDeviceName': '/dev/sda1',\n",
       "   'RootDeviceType': 'ebs',\n",
       "   'SecurityGroups': [{'GroupName': 'Dev-sg',\n",
       "     'GroupId': 'sg-0adcb13c79847745c'}],\n",
       "   'SourceDestCheck': True,\n",
       "   'VirtualizationType': 'hvm',\n",
       "   'CpuOptions': {'CoreCount': 1, 'ThreadsPerCore': 1},\n",
       "   'CapacityReservationSpecification': {'CapacityReservationPreference': 'open'},\n",
       "   'HibernationOptions': {'Configured': False},\n",
       "   'MetadataOptions': {'State': 'applied',\n",
       "    'HttpTokens': 'required',\n",
       "    'HttpPutResponseHopLimit': 2,\n",
       "    'HttpEndpoint': 'enabled',\n",
       "    'HttpProtocolIpv6': 'disabled',\n",
       "    'InstanceMetadataTags': 'disabled'},\n",
       "   'EnclaveOptions': {'Enabled': False},\n",
       "   'BootMode': 'uefi-preferred',\n",
       "   'PlatformDetails': 'Linux/UNIX',\n",
       "   'UsageOperation': 'RunInstances',\n",
       "   'UsageOperationUpdateTime': datetime.datetime(2024, 11, 26, 2, 12, 15, tzinfo=tzutc()),\n",
       "   'PrivateDnsNameOptions': {'HostnameType': 'ip-name',\n",
       "    'EnableResourceNameDnsARecord': False,\n",
       "    'EnableResourceNameDnsAAAARecord': False},\n",
       "   'MaintenanceOptions': {'AutoRecovery': 'default'},\n",
       "   'CurrentInstanceBootMode': 'legacy-bios'}]]"
      ]
     },
     "execution_count": 21,
     "metadata": {},
     "output_type": "execute_result"
    }
   ],
   "source": [
    "get_instance"
   ]
  },
  {
   "cell_type": "code",
   "execution_count": null,
   "metadata": {},
   "outputs": [],
   "source": [
    "# Initialize an empty list to store instances that are running or stopping\n",
    "get_only_running_and_stopping_instances = []\n",
    "for item in get_instance: # Iterate through the outer list of instances\n",
    "    for item2 in item:# Iterate through each instance in the inner list\n",
    "     if item2.get(\"State\").get(\"Name\") == \"terminated\": #Check if the instance state is not \"terminated\"\n",
    "        pass\n",
    "     else:\n",
    "        get_only_running_and_stopping_instances.append(item2)# Append the instance to the list if it's not terminated\n"
   ]
  },
  {
   "cell_type": "code",
   "execution_count": null,
   "metadata": {},
   "outputs": [],
   "source": [
    "get_only_running_and_stopping_instances"
   ]
  },
  {
   "cell_type": "code",
   "execution_count": null,
   "metadata": {},
   "outputs": [],
   "source": [
    "instance_info = []# Initialize an empty list to store information about instances\n",
    "\n",
    "for item in get_only_running_and_stopping_instances: # Iterate through the list of instances that are running or stopping\n",
    "    instance_id = item.get(\"InstanceId\") # Get the instance ID\n",
    "\n",
    "    security_groups= []# Initialize an empty list to store security group IDs\n",
    "\n",
    "for sg_group in item.get(\"SecurityGroups\"): # Iterate through the security groups of the instance\n",
    "   sg_group_id= sg_group.get(\"GroupId\") \n",
    "\n",
    "security_groups.append( sg_group_id)# Get the security group ID\n",
    "\n",
    "instance_info.append([instance_id,security_groups ]) # Append the security group ID to the list of security groups\n",
    "\n",
    "   "
   ]
  },
  {
   "cell_type": "code",
   "execution_count": 37,
   "metadata": {},
   "outputs": [
    {
     "data": {
      "text/plain": [
       "[]"
      ]
     },
     "execution_count": 37,
     "metadata": {},
     "output_type": "execute_result"
    }
   ],
   "source": [
    "instance_info"
   ]
  },
  {
   "cell_type": "code",
   "execution_count": 38,
   "metadata": {},
   "outputs": [],
   "source": [
    "# Initialize an empty list to store instance IDs with SSH rules open to the world\n",
    "ec2_with_ssh_rule_open_to_world = []\n",
    "\n",
    "for item in instance_info:# Iterate through the instance information\n",
    "    instance_id = item[0] # Extract the instance ID from the first element of the item\n",
    "    sg_group_id = item[1] # Extract the list of security group IDs from the second element of the item\n",
    "\n",
    "    for items in sg_group_id: # Iterate through the security group ID information \n",
    "        if items in get_sg_id_with_ssh_rule_open_to_the_world:\n",
    "            ec2_with_ssh_rule_open_to_world.append(instance_id)"
   ]
  },
  {
   "cell_type": "code",
   "execution_count": 39,
   "metadata": {},
   "outputs": [
    {
     "data": {
      "text/plain": [
       "[]"
      ]
     },
     "execution_count": 39,
     "metadata": {},
     "output_type": "execute_result"
    }
   ],
   "source": [
    "ec2_with_ssh_rule_open_to_world"
   ]
  },
  {
   "cell_type": "code",
   "execution_count": 40,
   "metadata": {},
   "outputs": [
    {
     "name": "stdout",
     "output_type": "stream",
     "text": [
      "No instances\n"
     ]
    }
   ],
   "source": [
    "#The try block is used to wrap the code that might cause an exception. \n",
    "# If the code in the try block runs without any errors, the except block is skipped.\n",
    "try:\n",
    "    response = client.terminate_instances(InstanceIds=ec2_with_ssh_rule_open_to_world) #to terminate the instance\n",
    "except Exception as e:\n",
    "    print(\"No instances\")\n",
    "\n",
    "    #The except block is used to handle exceptions that are raised in the try block. \n",
    "    # If an error occurs in the try block, the program immediately jumps to the except block, \n",
    "    # and the code inside the except block is executed.\n"
   ]
  }
 ],
 "metadata": {
  "kernelspec": {
   "display_name": "Python 3",
   "language": "python",
   "name": "python3"
  },
  "language_info": {
   "codemirror_mode": {
    "name": "ipython",
    "version": 3
   },
   "file_extension": ".py",
   "mimetype": "text/x-python",
   "name": "python",
   "nbconvert_exporter": "python",
   "pygments_lexer": "ipython3",
   "version": "3.11.9"
  }
 },
 "nbformat": 4,
 "nbformat_minor": 2
}
